{
 "cells": [
  {
   "cell_type": "markdown",
   "metadata": {},
   "source": [
    "# Capstone Project - The Battle of the Neighborhoods\n",
    "### Buying an apartment in Hamburg, Germany"
   ]
  },
  {
   "cell_type": "markdown",
   "metadata": {},
   "source": [
    "## Table of contents\n",
    "* [Introduction: Business Problem](#introduction)\n",
    "* [Data](#data)\n",
    "* [Methodology](#methodology)\n",
    "* [Analysis](#analysis)\n",
    "* [Results and Discussion](#results)\n",
    "* [Conclusion](#conclusion)"
   ]
  },
  {
   "cell_type": "markdown",
   "metadata": {},
   "source": [
    "## Introduction: Business Problem <a name=\"introduction\"></a>"
   ]
  },
  {
   "cell_type": "markdown",
   "metadata": {},
   "source": [
    "In this project I will try to solve the problem of finding an optimal housing object/location in Hamburg, Germany.\n",
    "In particular this project will be aimed at the potential buyers of a housing object in Hamburg, Germany. I will limit this housing object to apartments for sale in Hamburg and the target group would be newlyweds, couples or families with children under 10 years old."
   ]
  },
  {
   "cell_type": "markdown",
   "metadata": {},
   "source": [
    "The real estate market in Hamburg is notorious for its soaring price over years. The total area of Hamburg is 755,1 square kilometres.There are 7 districts (Altona, Bergedorf, Eimsbüttel, Harburg, Hamburg-Mitte, Hamburg-Nord, Wandsbek) and 104 smaller boroughs that are allocated to those 7 districts. The definition of Hamburg is restricted strictly to the political defined region and not the greater Hamburg Metropolitan area that includes other German federal states such as Schleswig-Holstein and Lower Saxony (Niedersachen), which are the adjoining states of Hamburg."
   ]
  },
  {
   "cell_type": "markdown",
   "metadata": {},
   "source": [
    "Given that there are more than 23,000 streets in Hamburg, I will aim at some certain boroughs, exploring the neighborhoods and using the Foursquare API to analyze the common venues in a particular quarter. To make the sales data of apartments in Hamburg more sophisticated, I will use web scrapping techniques to analyze the all the listing advertisements on ImmobilienScout24.de, which is the biggest real estate online platform in Germany. The goal of this capstone project is to recommend young families or couples find an optimal housing object, in this case an apartment, in Hamburg, Germany."
   ]
  },
  {
   "cell_type": "markdown",
   "metadata": {},
   "source": [
    "I will use data science analytics to generate some most promising areas based on those criteria. Advantages of each area will then be clearly expressed so that best possible final locations can be chosen by potential targeted buyers."
   ]
  },
  {
   "cell_type": "markdown",
   "metadata": {},
   "source": [
    "## Data <a name=\"data\"></a>"
   ]
  },
  {
   "cell_type": "markdown",
   "metadata": {},
   "source": [
    "Based on definition of the business problem, factors that will influence the discussion are:\n",
    "\n",
    "- All the street data and their matching boroughs in Hamburg\n",
    "- The statistical result of overall living quality in all streets in Hamburg area\n",
    "- The characteristics of apartments available for sale in Hamburg\n",
    "- Most common venues in a certain neighborhood/borough in Hamburg"
   ]
  },
  {
   "cell_type": "markdown",
   "metadata": {},
   "source": [
    "I will use regularly spaced grid of locations, centered around city center, to define the areas\n",
    "\n",
    "Following data sources will be needed to extract/generate the required information:\n",
    "\n",
    "- **Official Data** from Hamburg government and Statistics office for Hamburg and Schleswig-Holstein\n",
    "- Characteristics of appartments for sales in Hamburg (as of June 2019) will be retrieved by using **Beautiful Soup** to complete the webscrapping of immobilienscout24.de\n",
    "- Using **Pandas** to retrieve the basic neighborhodd data from Wikipedia page.\n",
    "- Important venues in a certain borough in Hamburg will be obtained by using **Foursquare API**"
   ]
  },
  {
   "cell_type": "markdown",
   "metadata": {},
   "source": [
    "### Official statistical data from government"
   ]
  },
  {
   "cell_type": "markdown",
   "metadata": {},
   "source": [
    "#### 1. Living quality for rent index 2017 ####\n",
    "The city-state government of Hamburg published a list containing all the streets and their grades of living quality for the rent index in 2017. This is the most actual data available from the government. There are only two labels for a street, either the living quality is \"gut\"(English: good) or \"normal\" (English: normal). Of course, we Germans love to categorize things, so besides the good or normal comment, there is a score for each street in Hamburg. This score is based on six big categories, like the borough status (land value, citizen structure...,etc), grassy area, population density, you name it. The fine line between a street with \"good\" or \"normal\" living quality lies in the score of -0,575. However, the contracted company for conducting this survey admitted that the criteria \"centrality\" (how close is this street to the city) and \"tree population\" (the private own trees could not be measured properly...) are not considered.\n",
    "\n",
    "The complete list in German could be download [here](https://www.hamburg.de/contentblob/10020798/e9ae9a0b62cd2f5b86cdd7f7df48dd74/data/d-wohnlagenverzeichnis-2017.pdf).\n",
    "\n",
    "#### 2. All the street data and their matching boroughs in Hamburg ####\n",
    "\n",
    "The federal Statistics office for Hamburg and Schleswig-Holstein (Statistikamt Nord) has plenty of interesting statistics for the two states (Hamburg and Schleswig-Holstein) in the northern Germany. The latest published version online is in January, 2017. The complete list in German could be download [here](https://www.statistik-nord.de/fileadmin/Dokumente/Verzeichnisse/SGV_Hamburg_2011_Siebente_Auflage.pdf)."
   ]
  },
  {
   "cell_type": "markdown",
   "metadata": {},
   "source": [
    "Finally, I combined the data sheets from 1 and 2 and created a new raw data, which join the two tables on the _street_ name \"Strasse\" and attached the _borough_ tag \"Stadtteil\" to the living quality table. I dropped all the streets which are actually bridges (German: bruecken), since there are no scores for such an address. (You may live under the bridge for free without renting it or buying it legally....).\n",
    "\n",
    "*Note*: \n",
    "###### 1. The original file of Data 1 contains a typo \"kßlmßstraße\" should be \"kálmánstraße\". I adjusted this entry manually. \n",
    "###### 2. Between 2017 and 2019 there are some new streets in Hamburg, mostly in Neugraben-Fischbek and Kirchwerder or around the port area. This is also adjusted manually."
   ]
  },
  {
   "cell_type": "code",
   "execution_count": 1,
   "metadata": {},
   "outputs": [
    {
     "name": "stdout",
     "output_type": "stream",
     "text": [
      "Data read into a pandas dataframe!\n"
     ]
    }
   ],
   "source": [
    "import numpy as np # library to handle data in a vectorized manner\n",
    "import pandas as pd # library for data analsysis\n",
    "\n",
    "pd.set_option('display.max_columns', None)\n",
    "pd.set_option('display.max_rows', None)\n",
    "\n",
    "df_qual = pd.read_csv('https://raw.githubusercontent.com/bekyl/Coursera_Capstone/master/Strassen_Stadtteil_Wohnlage_HH.csv', sep=';')\n",
    "\n",
    "print ('Data read into a pandas dataframe!')"
   ]
  },
  {
   "cell_type": "code",
   "execution_count": 2,
   "metadata": {},
   "outputs": [
    {
     "data": {
      "text/plain": [
       "(23163, 7)"
      ]
     },
     "execution_count": 2,
     "metadata": {},
     "output_type": "execute_result"
    }
   ],
   "source": [
    "df_qual.shape"
   ]
  },
  {
   "cell_type": "code",
   "execution_count": 3,
   "metadata": {},
   "outputs": [
    {
     "data": {
      "text/html": [
       "<div>\n",
       "<style scoped>\n",
       "    .dataframe tbody tr th:only-of-type {\n",
       "        vertical-align: middle;\n",
       "    }\n",
       "\n",
       "    .dataframe tbody tr th {\n",
       "        vertical-align: top;\n",
       "    }\n",
       "\n",
       "    .dataframe thead th {\n",
       "        text-align: right;\n",
       "    }\n",
       "</style>\n",
       "<table border=\"1\" class=\"dataframe\">\n",
       "  <thead>\n",
       "    <tr style=\"text-align: right;\">\n",
       "      <th></th>\n",
       "      <th>Strasse</th>\n",
       "      <th>Hausnr1</th>\n",
       "      <th>Hausnr2</th>\n",
       "      <th>Art</th>\n",
       "      <th>Wohnlage</th>\n",
       "      <th>Wohnlagenkennwert</th>\n",
       "      <th>Stadtteil</th>\n",
       "    </tr>\n",
       "  </thead>\n",
       "  <tbody>\n",
       "    <tr>\n",
       "      <th>0</th>\n",
       "      <td>1. Hafenstrasse</td>\n",
       "      <td>1</td>\n",
       "      <td>-1</td>\n",
       "      <td>U</td>\n",
       "      <td>normal</td>\n",
       "      <td>-21,282</td>\n",
       "      <td>Heimfeld</td>\n",
       "    </tr>\n",
       "    <tr>\n",
       "      <th>1</th>\n",
       "      <td>Aalheitengraben</td>\n",
       "      <td>1</td>\n",
       "      <td>-3</td>\n",
       "      <td>U</td>\n",
       "      <td>gut</td>\n",
       "      <td>2,06</td>\n",
       "      <td>Volksdorf</td>\n",
       "    </tr>\n",
       "    <tr>\n",
       "      <th>2</th>\n",
       "      <td>Aalheitengraben</td>\n",
       "      <td>4</td>\n",
       "      <td>-14</td>\n",
       "      <td>G</td>\n",
       "      <td>gut</td>\n",
       "      <td>1,767</td>\n",
       "      <td>Volksdorf</td>\n",
       "    </tr>\n",
       "    <tr>\n",
       "      <th>3</th>\n",
       "      <td>Aalkrautweg</td>\n",
       "      <td>1</td>\n",
       "      <td>-35</td>\n",
       "      <td>U</td>\n",
       "      <td>gut</td>\n",
       "      <td>4,675</td>\n",
       "      <td>Sasel</td>\n",
       "    </tr>\n",
       "    <tr>\n",
       "      <th>4</th>\n",
       "      <td>Aalkrautweg</td>\n",
       "      <td>2</td>\n",
       "      <td>-58</td>\n",
       "      <td>G</td>\n",
       "      <td>gut</td>\n",
       "      <td>4,72</td>\n",
       "      <td>Sasel</td>\n",
       "    </tr>\n",
       "  </tbody>\n",
       "</table>\n",
       "</div>"
      ],
      "text/plain": [
       "           Strasse Hausnr1 Hausnr2 Art Wohnlage Wohnlagenkennwert  Stadtteil\n",
       "0  1. Hafenstrasse       1      -1   U   normal           -21,282   Heimfeld\n",
       "1  Aalheitengraben       1      -3   U      gut              2,06  Volksdorf\n",
       "2  Aalheitengraben       4     -14   G      gut             1,767  Volksdorf\n",
       "3      Aalkrautweg       1     -35   U      gut             4,675      Sasel\n",
       "4      Aalkrautweg       2     -58   G      gut              4,72      Sasel"
      ]
     },
     "execution_count": 3,
     "metadata": {},
     "output_type": "execute_result"
    }
   ],
   "source": [
    "df_qual.head()"
   ]
  },
  {
   "cell_type": "code",
   "execution_count": 5,
   "metadata": {},
   "outputs": [
    {
     "data": {
      "text/plain": [
       "normal    15381\n",
       "gut        7782\n",
       "dtype: int64"
      ]
     },
     "execution_count": 5,
     "metadata": {},
     "output_type": "execute_result"
    }
   ],
   "source": [
    "pd.value_counts(df_qual['Wohnlage'].values, sort=False) ## gut means \"good\" and normal means \"normal\" in English"
   ]
  },
  {
   "cell_type": "code",
   "execution_count": 4,
   "metadata": {},
   "outputs": [
    {
     "data": {
      "text/html": [
       "<div>\n",
       "<style scoped>\n",
       "    .dataframe tbody tr th:only-of-type {\n",
       "        vertical-align: middle;\n",
       "    }\n",
       "\n",
       "    .dataframe tbody tr th {\n",
       "        vertical-align: top;\n",
       "    }\n",
       "\n",
       "    .dataframe thead th {\n",
       "        text-align: right;\n",
       "    }\n",
       "</style>\n",
       "<table border=\"1\" class=\"dataframe\">\n",
       "  <thead>\n",
       "    <tr style=\"text-align: right;\">\n",
       "      <th></th>\n",
       "      <th>Strasse</th>\n",
       "      <th>Hausnr1</th>\n",
       "      <th>Hausnr2</th>\n",
       "      <th>Art</th>\n",
       "      <th>Wohnlage</th>\n",
       "      <th>Wohnlagenkennwert</th>\n",
       "      <th>Stadtteil</th>\n",
       "    </tr>\n",
       "  </thead>\n",
       "  <tbody>\n",
       "    <tr>\n",
       "      <th>1</th>\n",
       "      <td>Aalheitengraben</td>\n",
       "      <td>1</td>\n",
       "      <td>-3</td>\n",
       "      <td>U</td>\n",
       "      <td>gut</td>\n",
       "      <td>2,06</td>\n",
       "      <td>Volksdorf</td>\n",
       "    </tr>\n",
       "    <tr>\n",
       "      <th>2</th>\n",
       "      <td>Aalheitengraben</td>\n",
       "      <td>4</td>\n",
       "      <td>-14</td>\n",
       "      <td>G</td>\n",
       "      <td>gut</td>\n",
       "      <td>1,767</td>\n",
       "      <td>Volksdorf</td>\n",
       "    </tr>\n",
       "    <tr>\n",
       "      <th>3</th>\n",
       "      <td>Aalkrautweg</td>\n",
       "      <td>1</td>\n",
       "      <td>-35</td>\n",
       "      <td>U</td>\n",
       "      <td>gut</td>\n",
       "      <td>4,675</td>\n",
       "      <td>Sasel</td>\n",
       "    </tr>\n",
       "    <tr>\n",
       "      <th>4</th>\n",
       "      <td>Aalkrautweg</td>\n",
       "      <td>2</td>\n",
       "      <td>-58</td>\n",
       "      <td>G</td>\n",
       "      <td>gut</td>\n",
       "      <td>4,72</td>\n",
       "      <td>Sasel</td>\n",
       "    </tr>\n",
       "    <tr>\n",
       "      <th>5</th>\n",
       "      <td>Aalort</td>\n",
       "      <td>1</td>\n",
       "      <td>-13</td>\n",
       "      <td>U</td>\n",
       "      <td>gut</td>\n",
       "      <td>3,075</td>\n",
       "      <td>Sasel</td>\n",
       "    </tr>\n",
       "  </tbody>\n",
       "</table>\n",
       "</div>"
      ],
      "text/plain": [
       "           Strasse Hausnr1 Hausnr2 Art Wohnlage Wohnlagenkennwert  Stadtteil\n",
       "1  Aalheitengraben       1      -3   U      gut              2,06  Volksdorf\n",
       "2  Aalheitengraben       4     -14   G      gut             1,767  Volksdorf\n",
       "3      Aalkrautweg       1     -35   U      gut             4,675      Sasel\n",
       "4      Aalkrautweg       2     -58   G      gut              4,72      Sasel\n",
       "5           Aalort       1     -13   U      gut             3,075      Sasel"
      ]
     },
     "execution_count": 4,
     "metadata": {},
     "output_type": "execute_result"
    }
   ],
   "source": [
    "# Let's remove the streets with the one with \"normal\" living quality from the dataframe\n",
    "df_gut=df_qual[df_qual.Wohnlage != 'normal']\n",
    "df_gut.head()"
   ]
  },
  {
   "cell_type": "code",
   "execution_count": 5,
   "metadata": {},
   "outputs": [
    {
     "data": {
      "text/plain": [
       "Stadtteil\n",
       "Sasel            528\n",
       "Blankenese       494\n",
       "Volksdorf        433\n",
       "Niendorf         419\n",
       "Poppenbuettel    402\n",
       "Name: Strasse, dtype: int64"
      ]
     },
     "execution_count": 5,
     "metadata": {},
     "output_type": "execute_result"
    }
   ],
   "source": [
    "# Now, I'll count how many \"good\" streets in a certain quarter \"Stadtteil\" and list the top five good boroughs\n",
    "\n",
    "df2=df_gut.groupby(['Stadtteil']).count()\n",
    "df2.Strasse.sort_values(ascending=False).head()"
   ]
  },
  {
   "cell_type": "markdown",
   "metadata": {},
   "source": [
    "##### To sum it up, according to the governmental statistical data, the best boroughs with the most \"good\" streets to be dewelled in Hamburg would be **Sasel**, **Blankenese** and **Volksdorf**, regardless of the current housing objects availble for sales."
   ]
  },
  {
   "cell_type": "markdown",
   "metadata": {},
   "source": [
    "### Characteristics of appartments for sales in Hamburg (Immobilienscout24)"
   ]
  },
  {
   "cell_type": "markdown",
   "metadata": {},
   "source": [
    "First of all, I need to give credit to balzer82 on Github. He shared a \"immoscraper\" on Github, so the data could be easily scrapped from the immobilienscout24's website. (check out his sharing link: https://github.com/balzer82/immoscraper/blob/master/immoscraper.ipynb)"
   ]
  },
  {
   "cell_type": "markdown",
   "metadata": {},
   "source": [
    "I used the immoscrapper to obtain the data available on immobilienscout24.de for all apartments for sale in Hamburg, Germany.\n",
    "There are 812 objects for sale and the data is saved as a csv file."
   ]
  },
  {
   "cell_type": "code",
   "execution_count": 6,
   "metadata": {},
   "outputs": [
    {
     "name": "stdout",
     "output_type": "stream",
     "text": [
      "Data read into a pandas dataframe!\n"
     ]
    }
   ],
   "source": [
    "import numpy as np # library to handle data in a vectorized manner\n",
    "\n",
    "import pandas as pd # library for data analsysis\n",
    "pd.set_option('display.max_columns', None)\n",
    "pd.set_option('display.max_rows', None)\n",
    "\n",
    "df_immo = pd.read_csv('https://raw.githubusercontent.com/bekyl/Coursera_Capstone/master/2019-06-18-Wohnung-Kauf.csv', sep =\";\")\n",
    "                      \n",
    "print ('Data read into a pandas dataframe!')"
   ]
  },
  {
   "cell_type": "code",
   "execution_count": 7,
   "metadata": {},
   "outputs": [
    {
     "data": {
      "text/html": [
       "<div>\n",
       "<style scoped>\n",
       "    .dataframe tbody tr th:only-of-type {\n",
       "        vertical-align: middle;\n",
       "    }\n",
       "\n",
       "    .dataframe tbody tr th {\n",
       "        vertical-align: top;\n",
       "    }\n",
       "\n",
       "    .dataframe thead th {\n",
       "        text-align: right;\n",
       "    }\n",
       "</style>\n",
       "<table border=\"1\" class=\"dataframe\">\n",
       "  <thead>\n",
       "    <tr style=\"text-align: right;\">\n",
       "      <th></th>\n",
       "      <th>ID</th>\n",
       "      <th>Miete/Kauf</th>\n",
       "      <th>address</th>\n",
       "      <th>balcony</th>\n",
       "      <th>builtInKitchen</th>\n",
       "      <th>city</th>\n",
       "      <th>floorplan</th>\n",
       "      <th>from</th>\n",
       "      <th>garden</th>\n",
       "      <th>lat</th>\n",
       "      <th>livingSpace</th>\n",
       "      <th>lon</th>\n",
       "      <th>numberOfRooms</th>\n",
       "      <th>postcode</th>\n",
       "      <th>price</th>\n",
       "      <th>privateOffer</th>\n",
       "      <th>quarter</th>\n",
       "      <th>title</th>\n",
       "      <th>url</th>\n",
       "    </tr>\n",
       "  </thead>\n",
       "  <tbody>\n",
       "    <tr>\n",
       "      <th>0</th>\n",
       "      <td>108374061</td>\n",
       "      <td>Kauf</td>\n",
       "      <td>Sophienterrasse 14, Harvestehude, Hamburg</td>\n",
       "      <td>True</td>\n",
       "      <td>False</td>\n",
       "      <td>Hamburg</td>\n",
       "      <td>True</td>\n",
       "      <td>002.01000718389</td>\n",
       "      <td>False</td>\n",
       "      <td>53.57615</td>\n",
       "      <td>257.04</td>\n",
       "      <td>9.99628</td>\n",
       "      <td>4.0</td>\n",
       "      <td>20149</td>\n",
       "      <td>4401000.0</td>\n",
       "      <td>False</td>\n",
       "      <td>Harvestehude</td>\n",
       "      <td>Herzen höher schlagen lassen: Maisonette-Penth...</td>\n",
       "      <td>https://www.immobilienscout24.de/expose/108374061</td>\n",
       "    </tr>\n",
       "    <tr>\n",
       "      <th>1</th>\n",
       "      <td>109383549</td>\n",
       "      <td>Kauf</td>\n",
       "      <td>Sophienterrasse 14, Harvestehude, Hamburg</td>\n",
       "      <td>True</td>\n",
       "      <td>False</td>\n",
       "      <td>Hamburg</td>\n",
       "      <td>True</td>\n",
       "      <td>002.01000718389</td>\n",
       "      <td>False</td>\n",
       "      <td>53.57615</td>\n",
       "      <td>282.31</td>\n",
       "      <td>9.99628</td>\n",
       "      <td>5.0</td>\n",
       "      <td>20149</td>\n",
       "      <td>4238000.0</td>\n",
       "      <td>False</td>\n",
       "      <td>Harvestehude</td>\n",
       "      <td>Einzig aber nicht artig: Top-Roof im Sophienpa...</td>\n",
       "      <td>https://www.immobilienscout24.de/expose/109383549</td>\n",
       "    </tr>\n",
       "    <tr>\n",
       "      <th>2</th>\n",
       "      <td>111371370</td>\n",
       "      <td>Kauf</td>\n",
       "      <td>Tonndorf, Hamburg</td>\n",
       "      <td>False</td>\n",
       "      <td>True</td>\n",
       "      <td>Hamburg</td>\n",
       "      <td>True</td>\n",
       "      <td>001.150603</td>\n",
       "      <td>False</td>\n",
       "      <td>NaN</td>\n",
       "      <td>60.51</td>\n",
       "      <td>NaN</td>\n",
       "      <td>2.0</td>\n",
       "      <td>22045</td>\n",
       "      <td>181000.0</td>\n",
       "      <td>False</td>\n",
       "      <td>Tonndorf</td>\n",
       "      <td>Ansprechender Wohngenuss!</td>\n",
       "      <td>https://www.immobilienscout24.de/expose/111371370</td>\n",
       "    </tr>\n",
       "    <tr>\n",
       "      <th>3</th>\n",
       "      <td>105708431</td>\n",
       "      <td>Kauf</td>\n",
       "      <td>Niendorf, Hamburg</td>\n",
       "      <td>False</td>\n",
       "      <td>True</td>\n",
       "      <td>Hamburg</td>\n",
       "      <td>True</td>\n",
       "      <td>001.150603</td>\n",
       "      <td>True</td>\n",
       "      <td>NaN</td>\n",
       "      <td>67.06</td>\n",
       "      <td>NaN</td>\n",
       "      <td>2.0</td>\n",
       "      <td>22455</td>\n",
       "      <td>244000.0</td>\n",
       "      <td>False</td>\n",
       "      <td>Niendorf</td>\n",
       "      <td>Interessanter Grundriss in beliebter Lage!</td>\n",
       "      <td>https://www.immobilienscout24.de/expose/105708431</td>\n",
       "    </tr>\n",
       "    <tr>\n",
       "      <th>4</th>\n",
       "      <td>106069645</td>\n",
       "      <td>Kauf</td>\n",
       "      <td>Weidengrasweg 1, Neugraben-Fischbek, Hamburg</td>\n",
       "      <td>True</td>\n",
       "      <td>False</td>\n",
       "      <td>Hamburg</td>\n",
       "      <td>True</td>\n",
       "      <td>001.15347</td>\n",
       "      <td>False</td>\n",
       "      <td>53.47536</td>\n",
       "      <td>106.00</td>\n",
       "      <td>9.84621</td>\n",
       "      <td>3.0</td>\n",
       "      <td>21147</td>\n",
       "      <td>399900.0</td>\n",
       "      <td>False</td>\n",
       "      <td>Neugraben-Fischbek</td>\n",
       "      <td>Bezaubernde 3-Zimer-Eigentumswohnung verteilt ...</td>\n",
       "      <td>https://www.immobilienscout24.de/expose/106069645</td>\n",
       "    </tr>\n",
       "  </tbody>\n",
       "</table>\n",
       "</div>"
      ],
      "text/plain": [
       "          ID Miete/Kauf                                       address  \\\n",
       "0  108374061       Kauf     Sophienterrasse 14, Harvestehude, Hamburg   \n",
       "1  109383549       Kauf     Sophienterrasse 14, Harvestehude, Hamburg   \n",
       "2  111371370       Kauf                             Tonndorf, Hamburg   \n",
       "3  105708431       Kauf                             Niendorf, Hamburg   \n",
       "4  106069645       Kauf  Weidengrasweg 1, Neugraben-Fischbek, Hamburg   \n",
       "\n",
       "   balcony  builtInKitchen     city  floorplan             from  garden  \\\n",
       "0     True           False  Hamburg       True  002.01000718389   False   \n",
       "1     True           False  Hamburg       True  002.01000718389   False   \n",
       "2    False            True  Hamburg       True       001.150603   False   \n",
       "3    False            True  Hamburg       True       001.150603    True   \n",
       "4     True           False  Hamburg       True        001.15347   False   \n",
       "\n",
       "        lat  livingSpace      lon  numberOfRooms  postcode      price  \\\n",
       "0  53.57615       257.04  9.99628            4.0     20149  4401000.0   \n",
       "1  53.57615       282.31  9.99628            5.0     20149  4238000.0   \n",
       "2       NaN        60.51      NaN            2.0     22045   181000.0   \n",
       "3       NaN        67.06      NaN            2.0     22455   244000.0   \n",
       "4  53.47536       106.00  9.84621            3.0     21147   399900.0   \n",
       "\n",
       "   privateOffer             quarter  \\\n",
       "0         False        Harvestehude   \n",
       "1         False        Harvestehude   \n",
       "2         False            Tonndorf   \n",
       "3         False            Niendorf   \n",
       "4         False  Neugraben-Fischbek   \n",
       "\n",
       "                                               title  \\\n",
       "0  Herzen höher schlagen lassen: Maisonette-Penth...   \n",
       "1  Einzig aber nicht artig: Top-Roof im Sophienpa...   \n",
       "2                          Ansprechender Wohngenuss!   \n",
       "3         Interessanter Grundriss in beliebter Lage!   \n",
       "4  Bezaubernde 3-Zimer-Eigentumswohnung verteilt ...   \n",
       "\n",
       "                                                 url  \n",
       "0  https://www.immobilienscout24.de/expose/108374061  \n",
       "1  https://www.immobilienscout24.de/expose/109383549  \n",
       "2  https://www.immobilienscout24.de/expose/111371370  \n",
       "3  https://www.immobilienscout24.de/expose/105708431  \n",
       "4  https://www.immobilienscout24.de/expose/106069645  "
      ]
     },
     "execution_count": 7,
     "metadata": {},
     "output_type": "execute_result"
    }
   ],
   "source": [
    "df_immo.head()"
   ]
  },
  {
   "cell_type": "code",
   "execution_count": 8,
   "metadata": {},
   "outputs": [
    {
     "data": {
      "text/plain": [
       "quarter\n",
       "Rahlstedt     54\n",
       "Winterhude    40\n",
       "Stellingen    28\n",
       "Eimsbüttel    27\n",
       "Niendorf      25\n",
       "Name: ID, dtype: int64"
      ]
     },
     "execution_count": 8,
     "metadata": {},
     "output_type": "execute_result"
    }
   ],
   "source": [
    "df_whg=df_immo.groupby(['quarter']).count() # \"quarter\" means \"Stadtteil\" in German\n",
    "df_whg.ID.sort_values(ascending=False).head()"
   ]
  },
  {
   "cell_type": "markdown",
   "metadata": {},
   "source": [
    "Now we have some basic data about quarters \"Stadtteile\" in Hamburg. Let's create a data frame for all the quarters and the representing boroughs in Hamburg with their geolocations for the battle of neighborhoods chosen from the top three quarters in the lists above **Sasel,  Blankenese ,  Volksdorf , Rahlstedt, Winterhude and Stellingen** in Hamburg."
   ]
  },
  {
   "cell_type": "code",
   "execution_count": 94,
   "metadata": {},
   "outputs": [
    {
     "data": {
      "text/html": [
       "<div>\n",
       "<style scoped>\n",
       "    .dataframe tbody tr th:only-of-type {\n",
       "        vertical-align: middle;\n",
       "    }\n",
       "\n",
       "    .dataframe tbody tr th {\n",
       "        vertical-align: top;\n",
       "    }\n",
       "\n",
       "    .dataframe thead th {\n",
       "        text-align: right;\n",
       "    }\n",
       "</style>\n",
       "<table border=\"1\" class=\"dataframe\">\n",
       "  <thead>\n",
       "    <tr style=\"text-align: right;\">\n",
       "      <th></th>\n",
       "      <th>Stadtteil</th>\n",
       "      <th>Ortsteile</th>\n",
       "      <th>Bezirk</th>\n",
       "      <th>Fläche(km²)</th>\n",
       "      <th>Einwohner</th>\n",
       "      <th>Bevölkerungsdichte(Einwohner/km²)</th>\n",
       "      <th>Koordinaten</th>\n",
       "      <th>Karte</th>\n",
       "    </tr>\n",
       "  </thead>\n",
       "  <tbody>\n",
       "    <tr>\n",
       "      <th>0</th>\n",
       "      <td>Hamburg-Altstadt</td>\n",
       "      <td>NaN</td>\n",
       "      <td>Hamburg-Mitte</td>\n",
       "      <td>NaN</td>\n",
       "      <td>2305.000</td>\n",
       "      <td>960</td>\n",
       "      <td>53° 33′ 0″ N, 10° 0′ 0″ O</td>\n",
       "      <td>NaN</td>\n",
       "    </tr>\n",
       "    <tr>\n",
       "      <th>1</th>\n",
       "      <td>HafenCity</td>\n",
       "      <td>NaN</td>\n",
       "      <td>Hamburg-Mitte</td>\n",
       "      <td>NaN</td>\n",
       "      <td>3627.000</td>\n",
       "      <td>1649</td>\n",
       "      <td>53° 32′ 28″ N, 10° 0′ 1″ O</td>\n",
       "      <td>NaN</td>\n",
       "    </tr>\n",
       "    <tr>\n",
       "      <th>2</th>\n",
       "      <td>Neustadt</td>\n",
       "      <td>NaN</td>\n",
       "      <td>Hamburg-Mitte</td>\n",
       "      <td>NaN</td>\n",
       "      <td>12.719</td>\n",
       "      <td>5530</td>\n",
       "      <td>53° 33′ 7″ N, 9° 59′ 8″ O</td>\n",
       "      <td>NaN</td>\n",
       "    </tr>\n",
       "    <tr>\n",
       "      <th>3</th>\n",
       "      <td>St. Pauli</td>\n",
       "      <td>NaN</td>\n",
       "      <td>Hamburg-Mitte</td>\n",
       "      <td>NaN</td>\n",
       "      <td>22.501</td>\n",
       "      <td>9000</td>\n",
       "      <td>53° 33′ 25″ N, 9° 57′ 50″ O</td>\n",
       "      <td>NaN</td>\n",
       "    </tr>\n",
       "    <tr>\n",
       "      <th>4</th>\n",
       "      <td>St. Georg</td>\n",
       "      <td>NaN</td>\n",
       "      <td>Hamburg-Mitte</td>\n",
       "      <td>NaN</td>\n",
       "      <td>11.055</td>\n",
       "      <td>4606</td>\n",
       "      <td>53° 33′ 18″ N, 10° 0′ 44″ O</td>\n",
       "      <td>NaN</td>\n",
       "    </tr>\n",
       "  </tbody>\n",
       "</table>\n",
       "</div>"
      ],
      "text/plain": [
       "          Stadtteil  Ortsteile         Bezirk  Fläche(km²)  Einwohner  \\\n",
       "0  Hamburg-Altstadt        NaN  Hamburg-Mitte          NaN   2305.000   \n",
       "1         HafenCity        NaN  Hamburg-Mitte          NaN   3627.000   \n",
       "2          Neustadt        NaN  Hamburg-Mitte          NaN     12.719   \n",
       "3         St. Pauli        NaN  Hamburg-Mitte          NaN     22.501   \n",
       "4         St. Georg        NaN  Hamburg-Mitte          NaN     11.055   \n",
       "\n",
       "   Bevölkerungsdichte(Einwohner/km²)                  Koordinaten  Karte  \n",
       "0                                960    53° 33′ 0″ N, 10° 0′ 0″ O    NaN  \n",
       "1                               1649   53° 32′ 28″ N, 10° 0′ 1″ O    NaN  \n",
       "2                               5530    53° 33′ 7″ N, 9° 59′ 8″ O    NaN  \n",
       "3                               9000  53° 33′ 25″ N, 9° 57′ 50″ O    NaN  \n",
       "4                               4606  53° 33′ 18″ N, 10° 0′ 44″ O    NaN  "
      ]
     },
     "execution_count": 94,
     "metadata": {},
     "output_type": "execute_result"
    }
   ],
   "source": [
    "## Webscrapping from Wikipedia - Information about quarters and boroughs in Hamburg\n",
    "# Using the Panda library instead of Beautiful Soup\n",
    "\n",
    "import numpy as np\n",
    "import pandas as pd\n",
    "\n",
    "array = pd.read_html(\"https://de.wikipedia.org/wiki/Liste_der_Bezirke_und_Stadtteile_Hamburgs\")\n",
    "\n",
    "hh_list = pd.DataFrame(array[1]) ## Only the second table of this wikipedia page is needed\n",
    "\n",
    "hh_list.head()"
   ]
  },
  {
   "cell_type": "code",
   "execution_count": 95,
   "metadata": {},
   "outputs": [
    {
     "data": {
      "text/plain": [
       "['Stadtteil',\n",
       " 'Ortsteile',\n",
       " 'Bezirk',\n",
       " 'Fläche(km²)',\n",
       " 'Einwohner',\n",
       " 'Bevölkerungsdichte(Einwohner/km²)',\n",
       " 'Koordinaten',\n",
       " 'Karte']"
      ]
     },
     "execution_count": 95,
     "metadata": {},
     "output_type": "execute_result"
    }
   ],
   "source": [
    "list(hh_list.columns.values)"
   ]
  },
  {
   "cell_type": "code",
   "execution_count": 96,
   "metadata": {},
   "outputs": [],
   "source": [
    "## Let's remove unnessary columns and add the geographical latitudes and altitudes to the Hamburg quarter list\n",
    "hh_list.drop(['Ortsteile','Fläche(km²)','Karte','Koordinaten'], inplace=True, axis=1)"
   ]
  },
  {
   "cell_type": "code",
   "execution_count": 97,
   "metadata": {},
   "outputs": [
    {
     "data": {
      "text/html": [
       "<div>\n",
       "<style scoped>\n",
       "    .dataframe tbody tr th:only-of-type {\n",
       "        vertical-align: middle;\n",
       "    }\n",
       "\n",
       "    .dataframe tbody tr th {\n",
       "        vertical-align: top;\n",
       "    }\n",
       "\n",
       "    .dataframe thead th {\n",
       "        text-align: right;\n",
       "    }\n",
       "</style>\n",
       "<table border=\"1\" class=\"dataframe\">\n",
       "  <thead>\n",
       "    <tr style=\"text-align: right;\">\n",
       "      <th></th>\n",
       "      <th>Stadtteil</th>\n",
       "      <th>Bezirk</th>\n",
       "      <th>Einwohner</th>\n",
       "      <th>Bevölkerungsdichte(Einwohner/km²)</th>\n",
       "    </tr>\n",
       "  </thead>\n",
       "  <tbody>\n",
       "    <tr>\n",
       "      <th>0</th>\n",
       "      <td>Hamburg-Altstadt</td>\n",
       "      <td>Hamburg-Mitte</td>\n",
       "      <td>2305.000</td>\n",
       "      <td>960</td>\n",
       "    </tr>\n",
       "    <tr>\n",
       "      <th>1</th>\n",
       "      <td>HafenCity</td>\n",
       "      <td>Hamburg-Mitte</td>\n",
       "      <td>3627.000</td>\n",
       "      <td>1649</td>\n",
       "    </tr>\n",
       "    <tr>\n",
       "      <th>2</th>\n",
       "      <td>Neustadt</td>\n",
       "      <td>Hamburg-Mitte</td>\n",
       "      <td>12.719</td>\n",
       "      <td>5530</td>\n",
       "    </tr>\n",
       "    <tr>\n",
       "      <th>3</th>\n",
       "      <td>St. Pauli</td>\n",
       "      <td>Hamburg-Mitte</td>\n",
       "      <td>22.501</td>\n",
       "      <td>9000</td>\n",
       "    </tr>\n",
       "    <tr>\n",
       "      <th>4</th>\n",
       "      <td>St. Georg</td>\n",
       "      <td>Hamburg-Mitte</td>\n",
       "      <td>11.055</td>\n",
       "      <td>4606</td>\n",
       "    </tr>\n",
       "  </tbody>\n",
       "</table>\n",
       "</div>"
      ],
      "text/plain": [
       "          Stadtteil         Bezirk  Einwohner  \\\n",
       "0  Hamburg-Altstadt  Hamburg-Mitte   2305.000   \n",
       "1         HafenCity  Hamburg-Mitte   3627.000   \n",
       "2          Neustadt  Hamburg-Mitte     12.719   \n",
       "3         St. Pauli  Hamburg-Mitte     22.501   \n",
       "4         St. Georg  Hamburg-Mitte     11.055   \n",
       "\n",
       "   Bevölkerungsdichte(Einwohner/km²)  \n",
       "0                                960  \n",
       "1                               1649  \n",
       "2                               5530  \n",
       "3                               9000  \n",
       "4                               4606  "
      ]
     },
     "execution_count": 97,
     "metadata": {},
     "output_type": "execute_result"
    }
   ],
   "source": [
    "hh_list.head()"
   ]
  },
  {
   "cell_type": "code",
   "execution_count": 101,
   "metadata": {},
   "outputs": [
    {
     "data": {
      "text/html": [
       "<div>\n",
       "<style scoped>\n",
       "    .dataframe tbody tr th:only-of-type {\n",
       "        vertical-align: middle;\n",
       "    }\n",
       "\n",
       "    .dataframe tbody tr th {\n",
       "        vertical-align: top;\n",
       "    }\n",
       "\n",
       "    .dataframe thead th {\n",
       "        text-align: right;\n",
       "    }\n",
       "</style>\n",
       "<table border=\"1\" class=\"dataframe\">\n",
       "  <thead>\n",
       "    <tr style=\"text-align: right;\">\n",
       "      <th></th>\n",
       "      <th>Quarter</th>\n",
       "      <th>Borough</th>\n",
       "      <th>Population</th>\n",
       "      <th>Density(Population/km²)</th>\n",
       "    </tr>\n",
       "  </thead>\n",
       "  <tbody>\n",
       "    <tr>\n",
       "      <th>0</th>\n",
       "      <td>Hamburg-Altstadt</td>\n",
       "      <td>Hamburg-Mitte</td>\n",
       "      <td>2305.000</td>\n",
       "      <td>960</td>\n",
       "    </tr>\n",
       "    <tr>\n",
       "      <th>1</th>\n",
       "      <td>HafenCity</td>\n",
       "      <td>Hamburg-Mitte</td>\n",
       "      <td>3627.000</td>\n",
       "      <td>1649</td>\n",
       "    </tr>\n",
       "    <tr>\n",
       "      <th>2</th>\n",
       "      <td>Neustadt</td>\n",
       "      <td>Hamburg-Mitte</td>\n",
       "      <td>12.719</td>\n",
       "      <td>5530</td>\n",
       "    </tr>\n",
       "    <tr>\n",
       "      <th>3</th>\n",
       "      <td>St. Pauli</td>\n",
       "      <td>Hamburg-Mitte</td>\n",
       "      <td>22.501</td>\n",
       "      <td>9000</td>\n",
       "    </tr>\n",
       "    <tr>\n",
       "      <th>4</th>\n",
       "      <td>St. Georg</td>\n",
       "      <td>Hamburg-Mitte</td>\n",
       "      <td>11.055</td>\n",
       "      <td>4606</td>\n",
       "    </tr>\n",
       "  </tbody>\n",
       "</table>\n",
       "</div>"
      ],
      "text/plain": [
       "            Quarter        Borough  Population  Density(Population/km²)\n",
       "0  Hamburg-Altstadt  Hamburg-Mitte    2305.000                      960\n",
       "1         HafenCity  Hamburg-Mitte    3627.000                     1649\n",
       "2          Neustadt  Hamburg-Mitte      12.719                     5530\n",
       "3         St. Pauli  Hamburg-Mitte      22.501                     9000\n",
       "4         St. Georg  Hamburg-Mitte      11.055                     4606"
      ]
     },
     "execution_count": 101,
     "metadata": {},
     "output_type": "execute_result"
    }
   ],
   "source": [
    "## Change the column names in German to English\n",
    "hh_list.rename({'Stadtteil': 'Quarter', 'Bezirk': 'Borough','Einwohner': 'Population',\n",
    "                'Bevölkerungsdichte(Einwohner/km²)': 'Density(Population/km²)'}, \n",
    "               axis=1, inplace=True)\n",
    "hh_list.head()"
   ]
  },
  {
   "cell_type": "code",
   "execution_count": 105,
   "metadata": {},
   "outputs": [
    {
     "data": {
      "text/html": [
       "<div>\n",
       "<style scoped>\n",
       "    .dataframe tbody tr th:only-of-type {\n",
       "        vertical-align: middle;\n",
       "    }\n",
       "\n",
       "    .dataframe tbody tr th {\n",
       "        vertical-align: top;\n",
       "    }\n",
       "\n",
       "    .dataframe thead th {\n",
       "        text-align: right;\n",
       "    }\n",
       "</style>\n",
       "<table border=\"1\" class=\"dataframe\">\n",
       "  <thead>\n",
       "    <tr style=\"text-align: right;\">\n",
       "      <th></th>\n",
       "      <th>Quarter</th>\n",
       "      <th>Borough</th>\n",
       "      <th>Population</th>\n",
       "      <th>Density(Population/km²)</th>\n",
       "    </tr>\n",
       "  </thead>\n",
       "  <tbody>\n",
       "    <tr>\n",
       "      <th>0</th>\n",
       "      <td>Blankenese</td>\n",
       "      <td>Altona</td>\n",
       "      <td>13.491</td>\n",
       "      <td>1752</td>\n",
       "    </tr>\n",
       "    <tr>\n",
       "      <th>1</th>\n",
       "      <td>Stellingen</td>\n",
       "      <td>Eimsbüttel</td>\n",
       "      <td>25.753</td>\n",
       "      <td>4440</td>\n",
       "    </tr>\n",
       "    <tr>\n",
       "      <th>2</th>\n",
       "      <td>Winterhude</td>\n",
       "      <td>Hamburg-Nord</td>\n",
       "      <td>55.651</td>\n",
       "      <td>7323</td>\n",
       "    </tr>\n",
       "    <tr>\n",
       "      <th>3</th>\n",
       "      <td>Sasel</td>\n",
       "      <td>Wandsbek</td>\n",
       "      <td>23.647</td>\n",
       "      <td>2815</td>\n",
       "    </tr>\n",
       "    <tr>\n",
       "      <th>4</th>\n",
       "      <td>Volksdorf</td>\n",
       "      <td>Wandsbek</td>\n",
       "      <td>20.694</td>\n",
       "      <td>1784</td>\n",
       "    </tr>\n",
       "    <tr>\n",
       "      <th>5</th>\n",
       "      <td>Rahlstedt</td>\n",
       "      <td>Wandsbek</td>\n",
       "      <td>91.703</td>\n",
       "      <td>3447</td>\n",
       "    </tr>\n",
       "  </tbody>\n",
       "</table>\n",
       "</div>"
      ],
      "text/plain": [
       "      Quarter       Borough  Population  Density(Population/km²)\n",
       "0  Blankenese        Altona      13.491                     1752\n",
       "1  Stellingen    Eimsbüttel      25.753                     4440\n",
       "2  Winterhude  Hamburg-Nord      55.651                     7323\n",
       "3       Sasel      Wandsbek      23.647                     2815\n",
       "4   Volksdorf      Wandsbek      20.694                     1784\n",
       "5   Rahlstedt      Wandsbek      91.703                     3447"
      ]
     },
     "execution_count": 105,
     "metadata": {},
     "output_type": "execute_result"
    }
   ],
   "source": [
    "## Select those six finalists mentioned above for the battle of neighborhoods\n",
    "\n",
    "finalist = ['Sasel', 'Blankenese' , 'Volksdorf' , 'Rahlstedt', 'Winterhude','Stellingen']\n",
    "Quarter_selected = hh_list.loc[hh_list['Quarter'].isin(finalist)]\n",
    "Quarter_selected = Quarter_selected.reset_index(drop=True)\n",
    "Quarter_selected"
   ]
  },
  {
   "cell_type": "code",
   "execution_count": 108,
   "metadata": {},
   "outputs": [
    {
     "data": {
      "text/html": [
       "<div>\n",
       "<style scoped>\n",
       "    .dataframe tbody tr th:only-of-type {\n",
       "        vertical-align: middle;\n",
       "    }\n",
       "\n",
       "    .dataframe tbody tr th {\n",
       "        vertical-align: top;\n",
       "    }\n",
       "\n",
       "    .dataframe thead th {\n",
       "        text-align: right;\n",
       "    }\n",
       "</style>\n",
       "<table border=\"1\" class=\"dataframe\">\n",
       "  <thead>\n",
       "    <tr style=\"text-align: right;\">\n",
       "      <th></th>\n",
       "      <th>Quarter</th>\n",
       "      <th>Borough</th>\n",
       "      <th>Population</th>\n",
       "      <th>Density(Population/km²)</th>\n",
       "      <th>Coordinates</th>\n",
       "      <th>Latitude</th>\n",
       "      <th>Longitude</th>\n",
       "    </tr>\n",
       "  </thead>\n",
       "  <tbody>\n",
       "    <tr>\n",
       "      <th>0</th>\n",
       "      <td>Blankenese</td>\n",
       "      <td>Altona</td>\n",
       "      <td>13.491</td>\n",
       "      <td>1752</td>\n",
       "      <td>(53.5575, 9.80306)</td>\n",
       "      <td>53.557500</td>\n",
       "      <td>9.803060</td>\n",
       "    </tr>\n",
       "    <tr>\n",
       "      <th>1</th>\n",
       "      <td>Stellingen</td>\n",
       "      <td>Eimsbüttel</td>\n",
       "      <td>25.753</td>\n",
       "      <td>4440</td>\n",
       "      <td>(53.5967771, 9.9284099)</td>\n",
       "      <td>53.596777</td>\n",
       "      <td>9.928410</td>\n",
       "    </tr>\n",
       "    <tr>\n",
       "      <th>2</th>\n",
       "      <td>Winterhude</td>\n",
       "      <td>Hamburg-Nord</td>\n",
       "      <td>55.651</td>\n",
       "      <td>7323</td>\n",
       "      <td>(53.5963901, 10.0038317)</td>\n",
       "      <td>53.596390</td>\n",
       "      <td>10.003832</td>\n",
       "    </tr>\n",
       "    <tr>\n",
       "      <th>3</th>\n",
       "      <td>Sasel</td>\n",
       "      <td>Wandsbek</td>\n",
       "      <td>23.647</td>\n",
       "      <td>2815</td>\n",
       "      <td>(53.6522, 10.1169)</td>\n",
       "      <td>53.652200</td>\n",
       "      <td>10.116900</td>\n",
       "    </tr>\n",
       "    <tr>\n",
       "      <th>4</th>\n",
       "      <td>Volksdorf</td>\n",
       "      <td>Wandsbek</td>\n",
       "      <td>20.694</td>\n",
       "      <td>1784</td>\n",
       "      <td>(53.6485554, 10.1647514)</td>\n",
       "      <td>53.648555</td>\n",
       "      <td>10.164751</td>\n",
       "    </tr>\n",
       "    <tr>\n",
       "      <th>5</th>\n",
       "      <td>Rahlstedt</td>\n",
       "      <td>Wandsbek</td>\n",
       "      <td>91.703</td>\n",
       "      <td>3447</td>\n",
       "      <td>(53.6038827, 10.1581547)</td>\n",
       "      <td>53.603883</td>\n",
       "      <td>10.158155</td>\n",
       "    </tr>\n",
       "  </tbody>\n",
       "</table>\n",
       "</div>"
      ],
      "text/plain": [
       "      Quarter       Borough  Population  Density(Population/km²)  \\\n",
       "0  Blankenese        Altona      13.491                     1752   \n",
       "1  Stellingen    Eimsbüttel      25.753                     4440   \n",
       "2  Winterhude  Hamburg-Nord      55.651                     7323   \n",
       "3       Sasel      Wandsbek      23.647                     2815   \n",
       "4   Volksdorf      Wandsbek      20.694                     1784   \n",
       "5   Rahlstedt      Wandsbek      91.703                     3447   \n",
       "\n",
       "                Coordinates   Latitude  Longitude  \n",
       "0        (53.5575, 9.80306)  53.557500   9.803060  \n",
       "1   (53.5967771, 9.9284099)  53.596777   9.928410  \n",
       "2  (53.5963901, 10.0038317)  53.596390  10.003832  \n",
       "3        (53.6522, 10.1169)  53.652200  10.116900  \n",
       "4  (53.6485554, 10.1647514)  53.648555  10.164751  \n",
       "5  (53.6038827, 10.1581547)  53.603883  10.158155  "
      ]
     },
     "execution_count": 108,
     "metadata": {},
     "output_type": "execute_result"
    }
   ],
   "source": [
    "from geopy.geocoders import Nominatim\n",
    "geolocator = Nominatim()\n",
    "Quarter_selected['Coordinates'] = Quarter_selected['Quarter'].apply(geolocator.geocode).apply(lambda x: (x.latitude, x.longitude))\n",
    "Quarter_selected[['Latitude', 'Longitude']] = Quarter_selected['Coordinates'].apply(pd.Series)\n",
    "Quarter_selected"
   ]
  },
  {
   "cell_type": "code",
   "execution_count": 77,
   "metadata": {},
   "outputs": [
    {
     "name": "stdout",
     "output_type": "stream",
     "text": [
      "The geograpical coordinates of Hamburg, Germany are 53.550341, 10.000654.\n"
     ]
    }
   ],
   "source": [
    "# Let's get Hamburg's Latitude and Longitude \n",
    "\n",
    "from geopy.geocoders import Nominatim \n",
    "address = 'Hamburg'\n",
    "\n",
    "geolocator = Nominatim(user_agent=\"Hamburg_explorer\")\n",
    "location = geolocator.geocode(address)\n",
    "Hamburg_latitude = location.latitude\n",
    "Hamburg_longitude = location.longitude\n",
    "print('The geograpical coordinates of Hamburg, Germany are {}, {}.'.format(Hamburg_latitude, Hamburg_longitude))"
   ]
  },
  {
   "cell_type": "code",
   "execution_count": 134,
   "metadata": {},
   "outputs": [
    {
     "data": {
      "text/html": [
       "<div style=\"width:100%;\"><div style=\"position:relative;width:100%;height:0;padding-bottom:60%;\"><iframe src=\"data:text/html;charset=utf-8;base64,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\" style=\"position:absolute;width:100%;height:100%;left:0;top:0;border:none !important;\" allowfullscreen webkitallowfullscreen mozallowfullscreen></iframe></div></div>"
      ],
      "text/plain": [
       "<folium.folium.Map at 0x7f5ebce16ba8>"
      ]
     },
     "execution_count": 134,
     "metadata": {},
     "output_type": "execute_result"
    }
   ],
   "source": [
    "import folium\n",
    "# create map of Six quarters for our battle of neighborhodds using latitude and longitude values\n",
    "hh_finalist = folium.Map(location=[Hamburg_latitude, Hamburg_longitude], zoom_start=10)\n",
    "\n",
    "# add markers to map\n",
    "for lat, lng, label in zip(Quarter_selected['Latitude'], Quarter_selected['Longitude'], \n",
    "                           Quarter_selected['Quarter']):\n",
    "    label = folium.Popup(label, parse_html=True)\n",
    "    folium.CircleMarker(\n",
    "        [lat, lng],\n",
    "        radius=9,\n",
    "        popup=label,\n",
    "        color='green',\n",
    "        fill=True,\n",
    "        fill_color='#3186cc',\n",
    "        fill_opacity=0.7).add_to(hh_finalist)  \n",
    "    \n",
    "hh_finalist"
   ]
  },
  {
   "cell_type": "markdown",
   "metadata": {},
   "source": [
    "### Foursquare"
   ]
  },
  {
   "cell_type": "markdown",
   "metadata": {},
   "source": [
    "Using Foursquare API to get info about venues in each are in Hamburg; this is especially of interest for young families in Germany. In particular finding the numbers and coordinates of public high schools which fall in the 'education' category. Also, I would like to explore the most common venues in certain boroughs in Germany. "
   ]
  },
  {
   "cell_type": "code",
   "execution_count": 1,
   "metadata": {},
   "outputs": [
    {
     "name": "stdout",
     "output_type": "stream",
     "text": [
      "Libraries imported.\n"
     ]
    }
   ],
   "source": [
    "import numpy as np # library to handle data in a vectorized manner\n",
    "\n",
    "import pandas as pd # library for data analsysis\n",
    "pd.set_option('display.max_columns', None)\n",
    "pd.set_option('display.max_rows', None)\n",
    "\n",
    "import json # library to handle JSON files\n",
    "\n",
    "from geopy.geocoders import Nominatim # convert an address into latitude and longitude values\n",
    "\n",
    "import requests # library to handle requests\n",
    "from pandas.io.json import json_normalize # tranform JSON file into a pandas dataframe\n",
    "\n",
    "# Matplotlib and associated plotting modules\n",
    "import matplotlib.cm as cm\n",
    "import matplotlib.colors as colors\n",
    "\n",
    "# import k-means from clustering stage\n",
    "from sklearn.cluster import KMeans\n",
    "\n",
    "#!conda install -c conda-forge folium=0.5.0 --yes # uncomment this line if you haven't completed the Foursquare API lab\n",
    "import folium # map rendering library\n",
    "\n",
    "print('Libraries imported.')"
   ]
  },
  {
   "cell_type": "code",
   "execution_count": 118,
   "metadata": {},
   "outputs": [],
   "source": [
    "# @hidden_cell \n",
    "CLIENT_ID = 'KJP3HE521VSWTMRH51CJTTXKEBRESASUYUB1BRSVEEL5A3EY' \n",
    "CLIENT_SECRET = 'XDNHWQZNMX0A4VVFJJAG0M4V0RIX2S3LJ11AJ4ZDNACHE4UI' \n",
    "VERSION = '20180604' "
   ]
  },
  {
   "cell_type": "code",
   "execution_count": 119,
   "metadata": {},
   "outputs": [
    {
     "name": "stdout",
     "output_type": "stream",
     "text": [
      "53.550341 10.000654\n"
     ]
    }
   ],
   "source": [
    "address = 'Hamburg, Germany'\n",
    "\n",
    "geolocator = Nominatim(user_agent=\"foursquare_agent\")\n",
    "location = geolocator.geocode(address)\n",
    "latitude = location.latitude\n",
    "longitude = location.longitude\n",
    "print(latitude, longitude)"
   ]
  },
  {
   "cell_type": "code",
   "execution_count": 120,
   "metadata": {},
   "outputs": [],
   "source": [
    "radius = 1000\n",
    "LIMIT = 100\n",
    "\n",
    "def getNearbyVenues(names, latitudes, longitudes, radius=1000):\n",
    "    \n",
    "    venues_list=[]\n",
    "    for name, lat, lng in zip(names, latitudes, longitudes):\n",
    "        print(name)\n",
    "            \n",
    "        # create the API request URL\n",
    "        url = 'https://api.foursquare.com/v2/venues/explore?&client_id={}&client_secret={}&v={}&ll={},{}&radius={}&limit={}'.format(\n",
    "            CLIENT_ID, \n",
    "            CLIENT_SECRET, \n",
    "            VERSION, \n",
    "            lat, \n",
    "            lng, \n",
    "            radius, \n",
    "            LIMIT)\n",
    "            \n",
    "        # make the GET request\n",
    "        results = requests.get(url).json()[\"response\"]['groups'][0]['items']\n",
    "        \n",
    "        # return only relevant information for each nearby venue\n",
    "        venues_list.append([(\n",
    "            name, \n",
    "            lat, \n",
    "            lng, \n",
    "            v['venue']['name'], \n",
    "            v['venue']['location']['lat'], \n",
    "            v['venue']['location']['lng'],  \n",
    "            v['venue']['categories'][0]['name']) for v in results])\n",
    "\n",
    "    nearby_venues = pd.DataFrame([item for venue_list in venues_list for item in venue_list])\n",
    "    nearby_venues.columns = ['District', \n",
    "                  'Dist_Latitude', \n",
    "                  'Dist_Longitude', \n",
    "                  'Venue', \n",
    "                  'Venue_Lat', \n",
    "                  'Venue_Long', \n",
    "                  'Venue_Category']\n",
    "    \n",
    "    return(nearby_venues)"
   ]
  },
  {
   "cell_type": "code",
   "execution_count": 126,
   "metadata": {},
   "outputs": [
    {
     "name": "stdout",
     "output_type": "stream",
     "text": [
      "Blankenese\n",
      "Stellingen\n",
      "Winterhude\n",
      "Sasel\n",
      "Volksdorf\n",
      "Rahlstedt\n"
     ]
    }
   ],
   "source": [
    "Hamburg_6Q_Venues = getNearbyVenues(names=Quarter_selected['Quarter'],\n",
    "                                   latitudes=Quarter_selected['Latitude'],\n",
    "                                   longitudes=Quarter_selected['Longitude']\n",
    "                                  )"
   ]
  },
  {
   "cell_type": "code",
   "execution_count": 128,
   "metadata": {},
   "outputs": [
    {
     "name": "stdout",
     "output_type": "stream",
     "text": [
      "Shape of the Venues' Dataframe:  (193, 7)\n"
     ]
    },
    {
     "data": {
      "text/html": [
       "<div>\n",
       "<style scoped>\n",
       "    .dataframe tbody tr th:only-of-type {\n",
       "        vertical-align: middle;\n",
       "    }\n",
       "\n",
       "    .dataframe tbody tr th {\n",
       "        vertical-align: top;\n",
       "    }\n",
       "\n",
       "    .dataframe thead th {\n",
       "        text-align: right;\n",
       "    }\n",
       "</style>\n",
       "<table border=\"1\" class=\"dataframe\">\n",
       "  <thead>\n",
       "    <tr style=\"text-align: right;\">\n",
       "      <th></th>\n",
       "      <th>District</th>\n",
       "      <th>Dist_Latitude</th>\n",
       "      <th>Dist_Longitude</th>\n",
       "      <th>Venue</th>\n",
       "      <th>Venue_Lat</th>\n",
       "      <th>Venue_Long</th>\n",
       "      <th>Venue_Category</th>\n",
       "    </tr>\n",
       "  </thead>\n",
       "  <tbody>\n",
       "    <tr>\n",
       "      <th>188</th>\n",
       "      <td>Rahlstedt</td>\n",
       "      <td>53.603883</td>\n",
       "      <td>10.158155</td>\n",
       "      <td>Juka Dojo</td>\n",
       "      <td>53.605032</td>\n",
       "      <td>10.154634</td>\n",
       "      <td>Gym / Fitness Center</td>\n",
       "    </tr>\n",
       "    <tr>\n",
       "      <th>189</th>\n",
       "      <td>Rahlstedt</td>\n",
       "      <td>53.603883</td>\n",
       "      <td>10.158155</td>\n",
       "      <td>Asia lam</td>\n",
       "      <td>53.602716</td>\n",
       "      <td>10.154492</td>\n",
       "      <td>Vietnamese Restaurant</td>\n",
       "    </tr>\n",
       "    <tr>\n",
       "      <th>190</th>\n",
       "      <td>Rahlstedt</td>\n",
       "      <td>53.603883</td>\n",
       "      <td>10.158155</td>\n",
       "      <td>Eis Insel</td>\n",
       "      <td>53.601545</td>\n",
       "      <td>10.153541</td>\n",
       "      <td>Ice Cream Shop</td>\n",
       "    </tr>\n",
       "    <tr>\n",
       "      <th>191</th>\n",
       "      <td>Rahlstedt</td>\n",
       "      <td>53.603883</td>\n",
       "      <td>10.158155</td>\n",
       "      <td>Von Allwörden</td>\n",
       "      <td>53.596521</td>\n",
       "      <td>10.153373</td>\n",
       "      <td>Bakery</td>\n",
       "    </tr>\n",
       "    <tr>\n",
       "      <th>192</th>\n",
       "      <td>Rahlstedt</td>\n",
       "      <td>53.603883</td>\n",
       "      <td>10.158155</td>\n",
       "      <td>H Brockdorffstraße</td>\n",
       "      <td>53.596467</td>\n",
       "      <td>10.153129</td>\n",
       "      <td>Bus Stop</td>\n",
       "    </tr>\n",
       "  </tbody>\n",
       "</table>\n",
       "</div>"
      ],
      "text/plain": [
       "      District  Dist_Latitude  Dist_Longitude               Venue  Venue_Lat  \\\n",
       "188  Rahlstedt      53.603883       10.158155           Juka Dojo  53.605032   \n",
       "189  Rahlstedt      53.603883       10.158155            Asia lam  53.602716   \n",
       "190  Rahlstedt      53.603883       10.158155           Eis Insel  53.601545   \n",
       "191  Rahlstedt      53.603883       10.158155       Von Allwörden  53.596521   \n",
       "192  Rahlstedt      53.603883       10.158155  H Brockdorffstraße  53.596467   \n",
       "\n",
       "     Venue_Long         Venue_Category  \n",
       "188   10.154634   Gym / Fitness Center  \n",
       "189   10.154492  Vietnamese Restaurant  \n",
       "190   10.153541         Ice Cream Shop  \n",
       "191   10.153373                 Bakery  \n",
       "192   10.153129               Bus Stop  "
      ]
     },
     "execution_count": 128,
     "metadata": {},
     "output_type": "execute_result"
    }
   ],
   "source": [
    "print (\"Shape of the Venues' Dataframe: \", Hamburg_6Q_Venues .shape)\n",
    "Hamburg_6Q_Venues .tail(5)                       "
   ]
  },
  {
   "cell_type": "code",
   "execution_count": 129,
   "metadata": {},
   "outputs": [
    {
     "name": "stdout",
     "output_type": "stream",
     "text": [
      "Café                             13\n",
      "Supermarket                      10\n",
      "Bakery                           10\n",
      "Ice Cream Shop                    6\n",
      "Bus Stop                          6\n",
      "Park                              5\n",
      "Hotel                             5\n",
      "Asian Restaurant                  4\n",
      "Sushi Restaurant                  4\n",
      "Restaurant                        4\n",
      "German Restaurant                 4\n",
      "Gym / Fitness Center              4\n",
      "Drugstore                         4\n",
      "Gas Station                       4\n",
      "Italian Restaurant                4\n",
      "Zoo Exhibit                       3\n",
      "Fast Food Restaurant              3\n",
      "Greek Restaurant                  3\n",
      "Trattoria/Osteria                 3\n",
      "Vietnamese Restaurant             3\n",
      "Farmers Market                    3\n",
      "Seafood Restaurant                3\n",
      "Pharmacy                          2\n",
      "Indoor Play Area                  2\n",
      "Taverna                           2\n",
      "Tea Room                          2\n",
      "Bank                              2\n",
      "Convenience Store                 2\n",
      "American Restaurant               2\n",
      "Beach                             2\n",
      "Snack Place                       2\n",
      "Sandwich Place                    2\n",
      "Pool                              2\n",
      "Indie Movie Theater               2\n",
      "Steakhouse                        2\n",
      "Gastropub                         1\n",
      "Pet Store                         1\n",
      "Lighthouse                        1\n",
      "Office                            1\n",
      "Burger Joint                      1\n",
      "Athletics & Sports                1\n",
      "Planetarium                       1\n",
      "French Restaurant                 1\n",
      "Zoo                               1\n",
      "Event Space                       1\n",
      "Exhibit                           1\n",
      "Austrian Restaurant               1\n",
      "Metro Station                     1\n",
      "Dessert Shop                      1\n",
      "Concert Hall                      1\n",
      "Soccer Field                      1\n",
      "Sporting Goods Shop               1\n",
      "Gym                               1\n",
      "Aquarium                          1\n",
      "Portuguese Restaurant             1\n",
      "Brazilian Restaurant              1\n",
      "Bistro                            1\n",
      "Clothing Store                    1\n",
      "Light Rail Station                1\n",
      "Pizza Place                       1\n",
      "Plaza                             1\n",
      "Korean Restaurant                 1\n",
      "Bavarian Restaurant               1\n",
      "Mobile Phone Shop                 1\n",
      "Bar                               1\n",
      "Food                              1\n",
      "Falafel Restaurant                1\n",
      "Doner Restaurant                  1\n",
      "Tapas Restaurant                  1\n",
      "Karaoke Bar                       1\n",
      "Playground                        1\n",
      "History Museum                    1\n",
      "Hardware Store                    1\n",
      "Mini Golf                         1\n",
      "Spanish Restaurant                1\n",
      "Bridge                            1\n",
      "Candy Store                       1\n",
      "Tennis Court                      1\n",
      "Forest                            1\n",
      "Pier                              1\n",
      "Theater                           1\n",
      "Indian Restaurant                 1\n",
      "Museum                            1\n",
      "Comedy Club                       1\n",
      "Electronics Store                 1\n",
      "Neighborhood                      1\n",
      "Harbor / Marina                   1\n",
      "Hobby Shop                        1\n",
      "Train Station                     1\n",
      "Mediterranean Restaurant          1\n",
      "Furniture / Home Store            1\n",
      "Shipping Store                    1\n",
      "Hawaiian Restaurant               1\n",
      "Vegetarian / Vegan Restaurant     1\n",
      "Name: Venue_Category, dtype: int64\n"
     ]
    }
   ],
   "source": [
    "print (Hamburg_6Q_Venues['Venue_Category'].value_counts())"
   ]
  },
  {
   "cell_type": "code",
   "execution_count": 133,
   "metadata": {},
   "outputs": [
    {
     "name": "stdout",
     "output_type": "stream",
     "text": [
      "There are 94 unique categories.\n",
      "   Venue_Category\n",
      "10          Hotel\n",
      "11          Plaza\n",
      "12       Tea Room\n",
      "13    Snack Place\n",
      "14           Café\n"
     ]
    }
   ],
   "source": [
    "### Number of Unique Categories in the Dataframe \n",
    "print('There are {} unique categories.'.format(len(Hamburg_6Q_Venues['Venue_Category'].unique())))\n",
    "## Check some of the categories randomly  \n",
    "print (Hamburg_6Q_Venues[['Venue_Category']][10:15])"
   ]
  },
  {
   "cell_type": "markdown",
   "metadata": {},
   "source": [
    "#### This will conclude the end of week 1 data collection part"
   ]
  },
  {
   "cell_type": "markdown",
   "metadata": {},
   "source": [
    "## Methodology <a name=\"methodology\"></a>"
   ]
  },
  {
   "cell_type": "code",
   "execution_count": null,
   "metadata": {},
   "outputs": [],
   "source": []
  },
  {
   "cell_type": "code",
   "execution_count": null,
   "metadata": {},
   "outputs": [],
   "source": []
  },
  {
   "cell_type": "code",
   "execution_count": null,
   "metadata": {},
   "outputs": [],
   "source": []
  },
  {
   "cell_type": "markdown",
   "metadata": {},
   "source": [
    "## Analysis <a name=\"analysis\"></a>"
   ]
  },
  {
   "cell_type": "code",
   "execution_count": null,
   "metadata": {},
   "outputs": [],
   "source": []
  },
  {
   "cell_type": "code",
   "execution_count": null,
   "metadata": {},
   "outputs": [],
   "source": []
  },
  {
   "cell_type": "code",
   "execution_count": null,
   "metadata": {},
   "outputs": [],
   "source": []
  },
  {
   "cell_type": "markdown",
   "metadata": {},
   "source": [
    "## Results and Discussion <a name=\"results\"></a>"
   ]
  },
  {
   "cell_type": "code",
   "execution_count": null,
   "metadata": {},
   "outputs": [],
   "source": []
  },
  {
   "cell_type": "code",
   "execution_count": null,
   "metadata": {},
   "outputs": [],
   "source": []
  },
  {
   "cell_type": "code",
   "execution_count": null,
   "metadata": {},
   "outputs": [],
   "source": []
  },
  {
   "cell_type": "code",
   "execution_count": null,
   "metadata": {},
   "outputs": [],
   "source": []
  },
  {
   "cell_type": "markdown",
   "metadata": {},
   "source": [
    "## Conclusion <a name=\"conclusion\"></a>"
   ]
  },
  {
   "cell_type": "code",
   "execution_count": null,
   "metadata": {},
   "outputs": [],
   "source": []
  },
  {
   "cell_type": "code",
   "execution_count": null,
   "metadata": {},
   "outputs": [],
   "source": []
  },
  {
   "cell_type": "code",
   "execution_count": null,
   "metadata": {},
   "outputs": [],
   "source": []
  }
 ],
 "metadata": {
  "kernelspec": {
   "display_name": "Python 3",
   "language": "python",
   "name": "python3"
  },
  "language_info": {
   "codemirror_mode": {
    "name": "ipython",
    "version": 3
   },
   "file_extension": ".py",
   "mimetype": "text/x-python",
   "name": "python",
   "nbconvert_exporter": "python",
   "pygments_lexer": "ipython3",
   "version": "3.6.8"
  }
 },
 "nbformat": 4,
 "nbformat_minor": 2
}
